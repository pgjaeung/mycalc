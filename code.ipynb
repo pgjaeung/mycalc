{
  "nbformat": 4,
  "nbformat_minor": 0,
  "metadata": {
    "colab": {
      "provenance": [],
      "authorship_tag": "ABX9TyPaJAvJMdxF8wAnsyWjtwPt",
      "include_colab_link": true
    },
    "kernelspec": {
      "name": "python3",
      "display_name": "Python 3"
    },
    "language_info": {
      "name": "python"
    }
  },
  "cells": [
    {
      "cell_type": "markdown",
      "metadata": {
        "id": "view-in-github",
        "colab_type": "text"
      },
      "source": [
        "<a href=\"https://colab.research.google.com/github/pgjaeung/mycalc/blob/main/code.ipynb\" target=\"_parent\"><img src=\"https://colab.research.google.com/assets/colab-badge.svg\" alt=\"Open In Colab\"/></a>"
      ]
    },
    {
      "cell_type": "code",
      "source": [
        "%%writefile mycalc/calculator.py\n",
        "def add(a,b):\n",
        "  return a+b\n",
        "def subtract(a,b):\n",
        "  return a-b\n",
        "def multiply(a,b):\n",
        "  return a*b\n",
        "def divide(a,b):\n",
        "  return a/b"
      ],
      "metadata": {
        "colab": {
          "base_uri": "https://localhost:8080/"
        },
        "id": "zFj_NWvvTsbY",
        "outputId": "4a7fbc3c-4d5b-4cb1-90a3-242d9ccec899"
      },
      "execution_count": 5,
      "outputs": [
        {
          "output_type": "stream",
          "name": "stdout",
          "text": [
            "Overwriting mycalc/calculator.py\n"
          ]
        }
      ]
    },
    {
      "cell_type": "code",
      "source": [
        "!python setup.py bdist_wheel"
      ],
      "metadata": {
        "colab": {
          "base_uri": "https://localhost:8080/"
        },
        "id": "Xe3ruCIFaQaa",
        "outputId": "8b05279c-ff53-426b-e65b-c3a932482be2"
      },
      "execution_count": 27,
      "outputs": [
        {
          "output_type": "stream",
          "name": "stdout",
          "text": [
            "running bdist_wheel\n",
            "running build\n",
            "running build_py\n",
            "package init file 'mycalc/__init__.py' not found (or not a regular file)\n",
            "/usr/local/lib/python3.9/dist-packages/setuptools/command/install.py:34: SetuptoolsDeprecationWarning: setup.py install is deprecated. Use build and pip and other standards-based tools.\n",
            "  warnings.warn(\n",
            "installing to build/bdist.linux-x86_64/wheel\n",
            "running install\n",
            "running install_lib\n",
            "creating build/bdist.linux-x86_64/wheel\n",
            "creating build/bdist.linux-x86_64/wheel/mycalc\n",
            "copying build/lib/mycalc/calculator.py -> build/bdist.linux-x86_64/wheel/mycalc\n",
            "running install_egg_info\n",
            "running egg_info\n",
            "writing jaeungcalc.egg-info/PKG-INFO\n",
            "writing dependency_links to jaeungcalc.egg-info/dependency_links.txt\n",
            "writing top-level names to jaeungcalc.egg-info/top_level.txt\n",
            "reading manifest file 'jaeungcalc.egg-info/SOURCES.txt'\n",
            "adding license file 'LICENSE'\n",
            "writing manifest file 'jaeungcalc.egg-info/SOURCES.txt'\n",
            "Copying jaeungcalc.egg-info to build/bdist.linux-x86_64/wheel/jaeungcalc-0.0.1-py3.9.egg-info\n",
            "running install_scripts\n",
            "creating build/bdist.linux-x86_64/wheel/jaeungcalc-0.0.1.dist-info/WHEEL\n",
            "creating 'dist/jaeungcalc-0.0.1-py3-none-any.whl' and adding 'build/bdist.linux-x86_64/wheel' to it\n",
            "adding 'mycalc/calculator.py'\n",
            "adding 'jaeungcalc-0.0.1.dist-info/LICENSE'\n",
            "adding 'jaeungcalc-0.0.1.dist-info/METADATA'\n",
            "adding 'jaeungcalc-0.0.1.dist-info/WHEEL'\n",
            "adding 'jaeungcalc-0.0.1.dist-info/top_level.txt'\n",
            "adding 'jaeungcalc-0.0.1.dist-info/RECORD'\n",
            "removing build/bdist.linux-x86_64/wheel\n"
          ]
        }
      ]
    },
    {
      "cell_type": "code",
      "source": [
        "!twine upload -u lju9176 -p dlwodnd3816611 dist/jaeungcalc-0.0.1-py3-none-any.whl"
      ],
      "metadata": {
        "colab": {
          "base_uri": "https://localhost:8080/"
        },
        "id": "eXfNSgGJccxS",
        "outputId": "e41d4bc1-5201-47e1-d609-09a099618700"
      },
      "execution_count": 28,
      "outputs": [
        {
          "output_type": "stream",
          "name": "stdout",
          "text": [
            "Uploading distributions to https://upload.pypi.org/legacy/\n",
            "Uploading jaeungcalc-0.0.1-py3-none-any.whl\n",
            "\u001b[2K\u001b[35m100%\u001b[0m \u001b[90m━━━━━━━━━━━━━━━━━━━━━━━━━━━━━━━━━━━━━━━━\u001b[0m \u001b[32m5.0/5.0 kB\u001b[0m • \u001b[33m00:00\u001b[0m • \u001b[31m?\u001b[0m\n",
            "\u001b[?25h\n",
            "\u001b[32mView at:\u001b[0m\n",
            "https://pypi.org/project/jaeungcalc/0.0.1/\n"
          ]
        }
      ]
    },
    {
      "cell_type": "code",
      "source": [
        "%%writefile setup.py\n",
        "import setuptools\n",
        "\n",
        "setuptools.setup (\n",
        "  name='jaeungcalc',\n",
        "  version='0.0.1',\n",
        "  description='nice calculator',\n",
        "  author='sjchun',\n",
        "  url = 'https://github.com/chunsejin/calc0001',\n",
        "  download_url = 'https://github.com/chunsejin/calc0001',\n",
        "  packages = [ 'mycalc' ],\n",
        "  classifiers = [\n",
        "      \"Programming Language :: Python :: 3\",\n",
        "  ]\n",
        ")"
      ],
      "metadata": {
        "colab": {
          "base_uri": "https://localhost:8080/"
        },
        "id": "pApE6GmaXZcJ",
        "outputId": "ae4322a5-fb21-4242-fbe5-36d8971baac6"
      },
      "execution_count": 26,
      "outputs": [
        {
          "output_type": "stream",
          "name": "stdout",
          "text": [
            "Overwriting setup.py\n"
          ]
        }
      ]
    },
    {
      "cell_type": "code",
      "source": [],
      "metadata": {
        "id": "bCkzH1mNbRXR"
      },
      "execution_count": null,
      "outputs": []
    }
  ]
}